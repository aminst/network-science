{
 "cells": [
  {
   "cell_type": "markdown",
   "metadata": {},
   "source": [
    "# Assignment — Power Law"
   ]
  },
  {
   "cell_type": "code",
   "execution_count": 5,
   "metadata": {},
   "outputs": [],
   "source": [
    "import matplotlib.pyplot as plt\n",
    "import numpy as np\n",
    "import pandas as pd\n",
    "from zlib import adler32\n",
    "import requests\n",
    "import networkx as nx\n",
    "from typing import List\n",
    "import math"
   ]
  },
  {
   "cell_type": "markdown",
   "metadata": {},
   "source": [
    "The PDF of the Power law distribution is \n",
    "\n",
    "$$ p(x) = Cx^{-\\alpha},$$ \n",
    "\n",
    "where $C$ is a normalization constant \n",
    "\n",
    "$$C = \\frac{\\alpha - 1}{x_{\\text{min}}^{-\\alpha + 1}}$$ \n",
    "\n",
    "and $\\alpha>1$ is called an exponent of the distribution. "
   ]
  },
  {
   "cell_type": "code",
   "execution_count": 6,
   "metadata": {},
   "outputs": [],
   "source": [
    "def power_law_pdf(x, alpha=3.5, x_min=1):\n",
    "    C = (alpha - 1) / x_min ** (1 - alpha)\n",
    "    return C * x ** (-alpha)"
   ]
  },
  {
   "cell_type": "code",
   "execution_count": 7,
   "metadata": {},
   "outputs": [
    {
     "data": {
      "image/png": "[encoded data removed]",
      "text/plain": [
       "<Figure size 432x288 with 1 Axes>"
      ]
     },
     "metadata": {
      "needs_background": "light"
     },
     "output_type": "display_data"
    }
   ],
   "source": [
    "x_space = np.linspace(1, 10, 100)\n",
    "plt.plot(x_space, power_law_pdf(x_space))\n",
    "plt.title('Power Law PDF');"
   ]
  },
  {
   "cell_type": "markdown",
   "metadata": {},
   "source": [
    "Let us generate observations from a Power Law RV."
   ]
  },
  {
   "cell_type": "markdown",
   "metadata": {},
   "source": [
    "### Task 1. Power law CDF (0.6 point)"
   ]
  },
  {
   "cell_type": "markdown",
   "metadata": {},
   "source": [
    "The first step is to derive CDF of Powel law: $F(x) = P(X \\leq x)$\n",
    "\n",
    "$$F(x) = 1 - \\int_{x}^\\infty p(t) dt.$$\n",
    "\n",
    "Take the integral, derive CDF analytically and write a function `power_law_cdf` with parameters `x`, `alpha` and `x_min`."
   ]
  },
  {
   "cell_type": "code",
   "execution_count": 8,
   "metadata": {
    "deletable": false,
    "nbgrader": {
     "cell_type": "code",
     "checksum": "dfa3158ba5ebe1454116372e3a44aec9",
     "grade": false,
     "grade_id": "cell-f682e125051975d6",
     "locked": false,
     "schema_version": 3,
     "solution": true,
     "task": false
    }
   },
   "outputs": [],
   "source": [
    "def power_law_cdf(x, alpha=3.5, x_min=1):\n",
    "    C = (alpha - 1) / x_min ** (1 - alpha)\n",
    "    return 1 - (C / (alpha - 1)) * math.pow(x, ((-1)*(alpha - 1)))"
   ]
  },
  {
   "cell_type": "code",
   "execution_count": 9,
   "metadata": {
    "deletable": false,
    "editable": false,
    "nbgrader": {
     "cell_type": "code",
     "checksum": "f19138c1513bba3faf4d69d651e3643d",
     "grade": true,
     "grade_id": "cell-87d0428f480773c4",
     "locked": true,
     "points": 0.6,
     "schema_version": 3,
     "solution": false,
     "task": false
    }
   },
   "outputs": [],
   "source": [
    "assert power_law_cdf(2, 2, 1) == 0.5\n",
    "assert power_law_cdf(10, 2, 1) == 0.9\n",
    "assert adler32(str(power_law_cdf(2, 3, 1)).encode()) == 32571595"
   ]
  },
  {
   "cell_type": "code",
   "execution_count": 10,
   "metadata": {},
   "outputs": [
    {
     "data": {
      "image/png": "[encoded data removed]",
      "text/plain": [
       "<Figure size 432x288 with 1 Axes>"
      ]
     },
     "metadata": {
      "needs_background": "light"
     },
     "output_type": "display_data"
    }
   ],
   "source": [
    "x_space = np.linspace(1, 10, 100)\n",
    "plt.plot(x_space, [power_law_cdf(x) for x in x_space])\n",
    "plt.title('Power Law CDF');"
   ]
  },
  {
   "cell_type": "markdown",
   "metadata": {},
   "source": [
    "### Task 2. Power law PPF (0.6 point)"
   ]
  },
  {
   "cell_type": "markdown",
   "metadata": {},
   "source": [
    "Let $X \\sim \\text{Power law}$. Next, define a random variable $R$, s.t. $R = F(X)$, so $R$ will be uniformly distributed on interval [0, 1] ([proof](https://en.wikipedia.org/wiki/Probability_integral_transform#Proof)). Good thing here is that we easily can generate uniformly distributed pseudorandom numbers and then transform them into Power Law. Let us find an expression for $x = F^{-1}(r)$, where $r$ is an observation from uniform distrubution on interval [0, 1]. \n",
    "\n",
    "Find an analytical form of $F^{-1}(r)$ and write a function `power_law_ppf` (percent point function, also known as a quantile) with parameters `r`, `alpha` and `x_min`. "
   ]
  },
  {
   "cell_type": "code",
   "execution_count": 11,
   "metadata": {
    "deletable": false,
    "nbgrader": {
     "cell_type": "code",
     "checksum": "be67ee873cb3bf60c2e62921b187b228",
     "grade": false,
     "grade_id": "cell-63a819b2bc8441f1",
     "locked": false,
     "schema_version": 3,
     "solution": true,
     "task": false
    }
   },
   "outputs": [],
   "source": [
    "def power_law_ppf(r, alpha=3.5, x_min=1):\n",
    "    C = (alpha - 1) / x_min ** (1 - alpha)\n",
    "    return math.pow(((((-1)*alpha + 1)/C)*(r - 1)), 1/((-1)*alpha + 1))"
   ]
  },
  {
   "cell_type": "code",
   "execution_count": 12,
   "metadata": {
    "deletable": false,
    "editable": false,
    "nbgrader": {
     "cell_type": "code",
     "checksum": "66dc6dea66047660258c1c1045c44c91",
     "grade": true,
     "grade_id": "cell-0b447767612a3798",
     "locked": true,
     "points": 0.6,
     "schema_version": 3,
     "solution": false,
     "task": false
    }
   },
   "outputs": [],
   "source": [
    "assert round(power_law_ppf(0.5, 2, 1), 2) == 2\n",
    "assert round(power_law_ppf(0.9, 2, 1), 2) == 10\n",
    "assert adler32(str(round(power_law_ppf(0.96, 3, 1), 2)).encode()) == 19792020"
   ]
  },
  {
   "cell_type": "code",
   "execution_count": 13,
   "metadata": {},
   "outputs": [
    {
     "data": {
      "image/png": "[encoded data removed]",
      "text/plain": [
       "<Figure size 432x288 with 1 Axes>"
      ]
     },
     "metadata": {
      "needs_background": "light"
     },
     "output_type": "display_data"
    }
   ],
   "source": [
    "x_space = np.linspace(0, 0.999, 100)\n",
    "plt.plot(x_space, [power_law_ppf(x) for x in x_space])\n",
    "plt.title('Power Law PPF');"
   ]
  },
  {
   "cell_type": "markdown",
   "metadata": {},
   "source": [
    "Finally, we can generate observation from Power law distribution as follows:\n",
    "1. Generate observation from uniform distribution on interval [0, 1]\n",
    "2. Calculate PPF value of given observation"
   ]
  },
  {
   "cell_type": "code",
   "execution_count": 14,
   "metadata": {},
   "outputs": [],
   "source": [
    "def power_law_generate(n, alpha=3.5, x_min=1, random_seed=1):\n",
    "    np.random.seed(random_seed)\n",
    "    uni_sample = np.random.uniform(0, 0.999, n)\n",
    "    return [power_law_ppf(x, alpha, x_min) for x in uni_sample]"
   ]
  },
  {
   "cell_type": "markdown",
   "metadata": {},
   "source": [
    "Look at the histogram of the generated sample"
   ]
  },
  {
   "cell_type": "code",
   "execution_count": 15,
   "metadata": {},
   "outputs": [],
   "source": [
    "alpha = 3.5\n",
    "x_min = 1\n",
    "x_train = power_law_generate(1000, alpha, x_min)\n",
    "x_space = np.linspace(1, 15, 100)"
   ]
  },
  {
   "cell_type": "code",
   "execution_count": 16,
   "metadata": {},
   "outputs": [
    {
     "data": {
      "image/png": "[encoded data removed]",
      "text/plain": [
       "<Figure size 432x288 with 1 Axes>"
      ]
     },
     "metadata": {
      "needs_background": "light"
     },
     "output_type": "display_data"
    }
   ],
   "source": [
    "hist, bin_edges = np.histogram(x_train, bins=200, density=True)\n",
    "bin_centers = (bin_edges[1:] + bin_edges[:-1]) / 2\n",
    "plt.scatter(bin_centers[hist > 0], hist[hist > 0], s=10)\n",
    "plt.plot(x_space, power_law_pdf(x_space, alpha, x_min), \n",
    "         label='Theoretical PDF', c='tab:orange')\n",
    "plt.legend()\n",
    "plt.xlim(1, 10)\n",
    "plt.show()"
   ]
  },
  {
   "cell_type": "markdown",
   "metadata": {},
   "source": [
    "And here is the same histogram in log-log scale"
   ]
  },
  {
   "cell_type": "code",
   "execution_count": 17,
   "metadata": {},
   "outputs": [
    {
     "data": {
      "image/png": "[encoded data removed]",
      "text/plain": [
       "<Figure size 432x288 with 1 Axes>"
      ]
     },
     "metadata": {
      "needs_background": "light"
     },
     "output_type": "display_data"
    }
   ],
   "source": [
    "hist, bin_edges = np.histogram(x_train, bins=200, density=True)\n",
    "bin_centers = (bin_edges[1:] + bin_edges[:-1]) / 2\n",
    "plt.scatter(bin_centers, hist, s=10)\n",
    "plt.plot(x_space, power_law_pdf(x_space, alpha, x_min), \n",
    "         label='Theoretical PDF', c='tab:orange')\n",
    "plt.legend()\n",
    "plt.xscale('log')\n",
    "plt.yscale('log')\n",
    "plt.xlim(1, 10)\n",
    "plt.show()"
   ]
  },
  {
   "cell_type": "markdown",
   "metadata": {},
   "source": [
    "### Task 3. Estimation of alpha with linear binning (0.6 point)"
   ]
  },
  {
   "cell_type": "markdown",
   "metadata": {},
   "source": [
    "Given observations from the Power Law distribution, try to estimate $\\alpha$. The easiest way is to draw an empirical PDF with linear binning in log-log scale and apply linear regression. By _linear binning_ we mean to keep a bin width is fixed.\n",
    "\n",
    "Write a function `alpha_lin_bins` that takes a train set, number of linear bins and returns an estimated $\\alpha$.\n",
    "\n",
    "_Hints:_\n",
    "* _Take log in both side of $p(x) = Cx^{-\\alpha}$_\n",
    "* _To calculate an empirical PDF, use `np.histogram(x_train, bins=bins, density=True)`_\n",
    "* _To calculate pseudoinverse matrix, use `np.linalg.pinv`_\n",
    "* _Also you can use fit-predict in `sklearn.linear.LinearRegression`_"
   ]
  },
  {
   "cell_type": "code",
   "execution_count": 50,
   "metadata": {
    "deletable": false,
    "nbgrader": {
     "cell_type": "code",
     "checksum": "98c4c6ef2ed0c2d94c440d3e8e932b7e",
     "grade": false,
     "grade_id": "cell-c57a5c7c5834b80e",
     "locked": false,
     "schema_version": 3,
     "solution": true,
     "task": false
    }
   },
   "outputs": [],
   "source": [
    "from sklearn.linear_model import LinearRegression\n",
    "\n",
    "def alpha_lin_bins(x_train, bins):\n",
    "    print(x_train)\n",
    "    hist = np.histogram(x_train, bins=bins, density=True)"
   ]
  },
  {
   "cell_type": "code",
   "execution_count": 51,
   "metadata": {
    "deletable": false,
    "editable": false,
    "nbgrader": {
     "cell_type": "code",
     "checksum": "6826a6691147f838c13ed2ebdf7c4f09",
     "grade": true,
     "grade_id": "cell-b9cf21aabb190bd7",
     "locked": true,
     "points": 0.6,
     "schema_version": 3,
     "solution": false,
     "task": false
    }
   },
   "outputs": [
    {
     "name": "stdout",
     "output_type": "stream",
     "text": [
      "[1.7141044581155895, 3.566386833394471, 1.0001142734994681, 1.4327268277136085, 1.1717959975041845, 1.1016203533187674, 1.2286128468709447, 1.527219246013582, 1.6566459103178515, 2.1658050099877233, 1.7205050546181853, 3.16991653749699, 1.2566726134535717, 8.14593069608178, 1.0281298439179523, 3.0284404721282843, 1.7149349324936811, 2.263114890854278, 1.1631241513795336, 1.2467326061914135, 4.998595997027134, 30.574788420720115, 1.45583877720581, 3.242860687914337, 8.032952013825119, 9.40840485075421, 1.0928474053934552, 1.040599757565965, 1.2043267932691595, 8.147592724855944, 1.1089529494353416, 1.7261811264558988, 23.21890163460783, 2.139642115184565, 3.2381871571037246, 1.460280619859754, 3.1828323295312844, 6.016523040970335, 1.0186099934435962, 3.9903301631649892, 82.45537473487856, 3.9591022947470274, 1.3892044468185616, 4.727909943970947, 1.1149798192407265, 1.809776664684451, 10.83269960840029, 1.4150687099755397, 1.4034842739843019, 1.149291260901424, 1.0197293054431267, 3.1071020957811837, 1.2680965105607935, 1.3610647790645074, 1.9649514985674563, 1.0563110802286995, 2.344904982325379, 1.171758528572079, 2.4314112937698322, 3.322906072474737, 1.1138736345565392, 1.705442551722606, 3.264834467884571, 1.7058008374817388, 1.0525246706785587, 2.152206216790892, 2.968511666044857, 2.059198764256121, 17.746279703961985, 2.4152750814503277, 10.256253874583829, 1.159201525937269, 1.1616251161489057, 5.1702003435344475, 1.6591428964800063, 1.1978757010119228, 13.620465794446112, 1.5323746960047389, 4.0009808970090734, 3.639963724154167, 8.505049222119379, 2.652861422353758, 4.003066214109859, 1.5350359136711509, 1.369221475054828, 9.522932686438597, 1.7472226545172143, 27.681819596929728, 2.9654060737838486, 2.6390378718461336, 1.1294728597547758, 19.432481924009014, 1.8164057740882353, 2.368608685680288, 1.6884153301432014, 1.31025528853437, 10.253901052331209, 2.3425008276812047, 1.0028757026569908, 2.607750753238239, 1.4843804366055255, 2.112070892200404, 8.699900540472735, 1.5549983242204204, 10.825629138994993, 2.650669035601073, 1.0160592447374217, 13.987539216638096, 3.2279516920724443, 272.1479144271265, 1.2079748097957652, 1.1587466904254544, 14.633332779725817, 3.2907872206396127, 1.0705883574922062, 4.076766982577651, 4.050588812646935, 12.837219475982375, 3.4579728989047918, 1.1417437026679513, 1.0202626755838118, 1.0268888545204202, 1.029101107946078, 1.3261981336908395, 7.100654944621546, 2.165872164330778, 2.233484726326455, 6.296787550539196, 1.1416165537646479, 1.386778857345101, 2.4106464494870443, 31.873680850725826, 2.2751533568438256, 1.0189822557315316, 4.995804523559341, 1.3033413624842403, 5.162571717463167, 1.632580517129673, 7.282170935249344, 3.942821534789056, 2.2506504063502177, 1.1578345873091236, 1.063668847147467, 1.137943971940621, 1.046580500205122, 1.120305878429479, 1.291128293462027, 3.4755528566202973, 2.2683826243921743, 1.0127027602895116, 1.0774727766580063, 29.68156460234598, 2.312311745154856, 1.2548467537099794, 1.3370296298735593, 3.892292909973096, 1.2425973067364602, 2.3853685406445533, 32.31014544721919, 6.492746449594522, 1.3151109999394535, 1.9734606819104863, 2.6269869925151417, 5.819093190612788, 1.1857256698642293, 1.0189085232779687, 1.0752134628746233, 1.9449908576322357, 2.5362887900543747, 2.3163300037461143, 1.4642254155705288, 80.82465889616019, 2.3762308895327937, 1.6122817989642009, 2.224185787303941, 3.9152596314450228, 3.0171706629659414, 1.3599052252443382, 1.0709716867913308, 1.586581615996579, 2.696055755865197, 1.265764841468266, 4.032303561014688, 1.0712027904272465, 1.3514514016361916, 5.100734642569681, 1.239527308668588, 2.768713471317701, 2.1014833141571354, 13.137697675190244, 1.3569137326265523, 1.0705436099103653, 3.7640809184527555, 4.3745651698514365, 10.74206584569754, 14.501180517190365, 1.0141346244468297, 1.3057007433000356, 2.6052629032522914, 19.255692157123278, 19.695097488815506, 2.2527420461015817, 11.722057371597241, 2.7849307388383457, 1.6383175110576413, 1.943652263077529, 2.5233802054137757, 2.217286904159366, 13.378865229308738, 12.167626409395691, 1.651475124934217, 26.524682455068884, 1.2103338952070608, 1.1444308201453284, 1.155994630630729, 2.0208409468763695, 1.02197583296879, 18.875845618951143, 5.756666480402874, 1.0152325097552783, 1.2136217772171811, 1.4964045382206421, 1.1505703666802896, 5.2268778995985965, 1.5253015093186217, 16.438547531874732, 2.389099013861771, 8.193575007379117, 6.4057276817891555, 10.469770914111592, 1.8498662792145024, 2.2016755460936808, 4.945720410888631, 1.3994491572689214, 1.9598745825899997, 2.4907294882703006, 1.015762338176768, 2.45632607284614, 1.7644235931785928, 5.169379056257042, 1.4597039065168698, 9.258900889781863, 2.365628504519119, 1.2252292213921663, 4.697952310953172, 2.5734669872850113, 1.0569208561612242, 1.7234648476499268, 3.1093538067437567, 12.148184949702989, 1.000401784232201, 41.29226604643039, 1.6030875066042425, 36.777895652601266, 2.525963015327941, 5.8145269012182474, 2.3481718637355877, 2.6841899325835423, 1.3991702746488752, 2.4168980266768516, 3.9883817154608012, 7.015354212159604, 4.070453133248479, 3.3042470510216893, 7.332181969939366, 1.4757061488026078, 3.0313869991483995, 1.8195814484264687, 1.61739187769193, 1.6960666781792226, 1.6696667904253357, 1.4642715444518004, 2.6405948314248877, 1.753822967895058, 36.802964524986045, 3.097155512549268, 1.2474603555564727, 1.7429932362002802, 1.5220767186936426, 4.922257015113423, 8.272550101035648, 10.302705210841145, 2.9590797084152074, 1.3697467799285161, 1.3371027772496544, 6.851335027641549, 2.1150007623859834, 5.034205486110264, 2.3359902892496667, 3.7370518081783755, 2.0768113488798168, 4.349963745977657, 2.3163651317990674, 1.8700123336551961, 1.5205569084516897, 1.0731238838037738, 1.606545077882066, 1.0864209299432914, 55.04879050926888, 1.2216444689904948, 5.292316862170762, 7.941971717491122, 3.2023040104290956, 2.319781501013853, 1.1916259185136047, 1.8741091284295808, 1.526314142180488, 1.290014504967714, 2.4504960401850644, 1.45339873428424, 11.818828876429437, 10.956009252984053, 1.3456435958075952, 1.1245816113587068, 1.2388039520235126, 1.9963450376365477, 3.6745398648466514, 1.2626043327997514, 1.329408078406338, 6.7033205603020685, 1.7106675143177026, 2.6046304949789736, 1.3045165166909891, 1.113418723581097, 2.063307046870446, 1.9108177267643363, 1.1799674181377522, 2.6398069861377897, 2.1904178836357073, 2.885863045523024, 1.1687718121112312, 4.012459317229241, 1.2850614407128338, 2.0782782356122227, 4.640602338012861, 1.0228171037401739, 1.4793733137268155, 7.815519600715993, 6.404709685106979, 2.1640438368893204, 7.448327186885555, 19.552706560576596, 5.733306881509337, 6.814836123610285, 1.109440365933208, 2.8624836628747445, 3.3648900706179905, 2.5616760121254125, 4.970565466325973, 1.035772096997295, 4.337801913707374, 3.717428893674174, 1.3503271007007216, 1.3455549724110867, 2.7149641714756876, 1.5266060663662446, 4.896969939683069, 1.8040774936647113, 4.5864546432506765, 95.06888927683663, 1.4284655000885733, 1.166674397247397, 10.040879222015867, 2.1787338212762895, 38.11793530615522, 2.7470097093563806, 141.22521659912985, 2.200339761823594, 2.109257460842564, 1.1564603883787814, 1.5512280638392537, 1.0268968401458882, 1.1908090277521441, 3.9199016011324934, 1.0313204707040902, 1.5777264260923818, 7.219377729672505, 3.2465955527540546, 3.228422514485836, 1.2322071811444932, 1.7903896852565842, 2.3866110923180472, 88.98345620362629, 1.2558117697317603, 1.32887746343267, 1.354849996405827, 3.9907771684550926, 1.8399885329691792, 1.060302037119854, 2.0325522361478923, 1.2686301581325097, 4.945736382307003, 1.4225440082537513, 1.028360544552983, 2.456031009329852, 6.369288351510628, 1.614557125882658, 3.985785928730306, 2.0434450176160412, 2.1758564293122924, 24.08181270344435, 5.080189021053305, 1.0333682284652723, 3.432626211183508, 1.8675408553565533, 18.72708008599332, 1.2840453412338413, 1.3638935462192143, 1.0886042081162888, 1.7488332959665784, 1.1222207791804677, 2.725931870017859, 5.054596571212729, 3.2905961197965987, 4.2633954657781405, 1.520014792631942, 6.451847315266007, 1.7492915559744704, 5.655656290072936, 2.672865308358585, 1.1672419962295493, 1.0849617405127205, 1.0186559817074783, 1.0714189355172041, 1.8454448429213963, 1.127686321862623, 1.0285479294248572, 4.066803260950879, 1.651406650791365, 3.9399792560917812, 1.8246590989468603, 1.8169814880131332, 1.9142215655568213, 1.8994431839435828, 5.059709089934193, 1.6722131953246266, 10.393008950322354, 1.0384474653601479, 4.407236951306737, 1.1435311594077928, 2.6170820575723845, 1.0104622218420132, 2.1649176004455772, 1.0030240560063493, 20.097509783176243, 10.470834877100266, 4.882120588142217, 11.676656419187806, 1.1701554286152642, 1.187045543783994, 1.2306844706586921, 2.644616953473407, 10.515654743327932, 90.62258497628184, 3.4531738475104725, 3.7184205060232274, 10.915113432837929, 1.6679811988652595, 1.3326240744554732, 1.2095653501251384, 1.1355088991800213, 5.313439177874277, 1.1718460440190879, 1.3587569166848545, 5.502671503003985, 1.4498567013635524, 53.86489174547557, 1.363088767723258, 2.1418765839219174, 1.4580501706412519, 11.09410733830097, 1.5777601135866124, 1.7641623178308017, 2.048258609757148, 16.115409770232656, 1.0319044818620984, 3.5231337679017685, 9.101494570769459, 1.0280238650704832, 2.089991681103681, 1.4829398637693958, 7.073628127679105, 2.2622286519299246, 3.2210023815732742, 1.8261526306049383, 2.6858668795944536, 1.4080674616508195, 1.0094272728522247, 2.359487666895294, 1.4516585436665983, 2.0693237139051353, 11.83284177984913, 1.742306929123254, 1.3282834486099888, 1.5896291766361188, 14.477909678361272, 15.608297397015784, 6.389189230821432, 12.389471632830228, 1.294787324204997, 1.09576399563164, 1.2937990212000596, 1.457858216273241, 1.2115207537702626, 2.5412125452548273, 1.7040792395326634, 5.4210873015678205, 1.2269114705801571, 3.3464363408173305, 1.3159890697884846, 2.3454625711161716, 1.5352460473932672, 1.0603413039189629, 1.2963188620931372, 2.9712247531477125, 1.9870951810084319, 2.076830120949466, 1.211453708409543, 2.3263666019370293, 235.66407047989472, 5.435322409553221, 2.461709652355259, 40.02093777414436, 10.066542066218481, 2.469210949819665, 1.0334783947262225, 1.1031239041455, 1.0698692484547845, 1.8224277950949743, 1.600152074189532, 39.02390937189914, 1.201656329302986, 35.47961887824749, 4.286462469260276, 5.66295031841438, 2.7172672622877263, 3.012629280290093, 1.9098747346936769, 1.0132977296047816, 1.5447667522077406, 1.9668767324999248, 3.694960604156218, 1.8802637315790498, 1.8414426240097759, 1.15945400234755, 1.0109974738867735, 4.124051165704451, 1.4697947303819405, 60.237577281834206, 1.282074280381318, 1.5114172096058993, 2.0980733455703087, 4.067298589782176, 1.8635644445144879, 1.142462465252077, 1.4538875088315486, 2.016188585149114, 3.0597429404917276, 4.3361337279193775, 1.1496967812121535, 1.0234285475670057, 2.077116005373281, 5.240505724666439, 1.0127517222799558, 3.046898236777621, 3.1859453263715305, 1.8142153063468065, 11.61088192103286, 2.806755372598647, 1.0052621430161426, 1.9377742591416431, 7.065065138342478, 5.867483029577963, 2.8449910300113217, 3.058335225658554, 2.369225168828954, 1.3771176987715976, 2.272569538559161, 3.0400501222156824, 1.5433937513924896, 6.895245854290919, 1.2419929468030226, 3.945917094909443, 1.4070894807895555, 4.405781032410712, 1.7461441400844437, 5.178414791131639, 1.5460283430083523, 1.2714227492365897, 4.282971175693311, 1.4457830747329816, 3.738482986199647, 3.9021143673275374, 1.283985992485992, 1.2720995893666307, 1.2480483262140807, 1.1660118996798028, 1.6043780695092198, 1.0273282218545596, 1.1246183379916337, 3.066444890746684, 4.974549220245728, 1.087487259968613, 1.3011864095733974, 1.2616991624845688, 11.96404510397052, 3.455463268782089, 2.23879290382056, 1.43722241921423, 6.024792996213612, 1.7695064023102336, 12.908682248749905, 3.393808195849052, 1.9140707661096432, 1.1442745965302987, 40.10830351711056, 1.1900140919868938, 1.25376053419588, 1.756699178393434, 1.6772830404881567, 1.1717899481215164, 3.6844571970258104, 1.2323714225378806, 2.803097131561138, 4.057645255864313, 1.266659196259777, 2.5022100386047477, 3.9710817388527637, 2.7592333681742027, 2.478500099965137, 1.4188156589308825, 3.7157436043510845, 17.973693128999862, 1.7395413564156457, 4.574557778376395, 1.059417312574395, 6.039972449030214, 1.237712250844856, 1.6520781885302847, 1.428124557950374, 1.0869843345517296, 10.387060507445007, 1.586757614996031, 2.1284146682348073, 1.9748099156986565, 1.1521121994635677, 1.2598387180759465, 1.0823830067271665, 2.030101443840363, 1.3537075383749222, 1.5544956765391449, 1.1210225238492595, 4.689645977885518, 1.119165738114283, 65.45837013011412, 1.215043211769912, 2.335535705555501, 1.0469017087535293, 4.680096088708214, 1.2336789546282854, 2.115847179749463, 3.836377952676909, 1.1761683177270594, 2.2248727230487235, 1.2761622694813881, 4.139704311389546, 3.5996119694089224, 1.214141079653951, 7.199662018977808, 1.020153462608787, 7.111200133258071, 2.26421027775167, 1.6745292839348611, 4.132029654193882, 3.5237580734376137, 73.20027230361077, 1.3846713406923457, 1.0038042965595735, 14.91840506051599, 6.994924846501741, 3.67812069380944, 2.066850605112679, 3.4042470794630915, 4.540275068170888, 1.5987237518573971, 4.33937756042947, 3.9979801381717595, 2.5812979820931172, 1.6707434422932195, 3.296095271207138, 1.003119445647771, 4.427163750138658, 9.571226826708692, 1.3141923698144167, 1.1371989828374414, 1.282155997713917, 1.4322433620487949, 8.485037319476344, 2.1863814244804547, 1.4013942655685097, 1.1603840276082487, 1.4081617705354816, 2.585697906275628, 1.4788838851841974, 1.84129109780882, 1.7975039533627923, 5.790630222642799, 1.7419229829566176, 1.5275410822951312, 3.0702783635247037, 1.2841265848356422, 1.8753935212161572, 1.4586847704433041, 2.675433144733062, 8.096059042340874, 1.809107699550236, 4.62263065378918, 1.8399559737988165, 2.903373711303469, 1.1516878032671074, 1.7622652241970842, 10.917349586261171, 2.530835202787097, 4.273646959433081, 2.0169256670171403, 1.9902777685676465, 6.331395644941991, 1.0726611288728383, 2.3402706717527932, 17.187981839092302, 2.071861213876345, 1.2411126155235677, 6.539856796453286, 1.3358045775252267, 3.3336145842403466, 2.172593804169176, 19.189236339879645, 2.6575414891350473, 6.140242553617983, 1.0079882497447685, 85.84218647970977, 1.0841716803702055, 1.4745073546320557, 18.25025433315142, 1.009010629662919, 5.6150525089598435, 7.160780921652579, 1.7837743781838888, 1.3431643085995977, 5.047620007159239, 1.9134513151695318, 1.155006851390145, 13.683848549895947, 9.530526006768852, 1.9648434679226199, 6.937015768707995, 1.718683917978752, 3.1524006195506353, 1.6600063029704508, 2.021166771828092, 1.2335964838001492, 27.796258573371585, 1.4162730647255464, 1.115269948486561, 1.1684578334210434, 1.0142792277494586, 3.5116028209194003, 2.293229904700368, 4.8492789037058746, 2.0266415955117734, 4.785357994322456, 3.279424514087796, 4.485725648188547, 1.6837182031661488, 2.8338475176898084, 1.2189391501174038, 1.4738353186639352, 1.2083599398831075, 1.6898416844140733, 1.3178309485257904, 1.6849627565063543, 38.83060860315608, 1.4705860867163945, 54.078766676299374, 2.744763003875397, 1.5992731044671187, 6.974814656345858, 2.6244456531771636, 1.3365071762192748, 4.809144815062869, 1.76213183343004, 1.5555816869571129, 1.49241849818397, 3.296755900655493, 1.3668325283803275, 5.193988610531183, 1.4184266498974363, 2.1909513203132143, 1.9509666300452557, 6.872902123991982, 8.888734656384052, 1.2257907219960977, 2.4082638735549526, 9.737746987788874, 1.8039831646427644, 12.649651252984414, 1.3864085646207267, 2.552468172144981, 3.1423936996064348, 1.2952990823097097, 1.0139455485646318, 1.7132300857613776, 16.011120674978347, 1.5213407944818638, 4.524161193920298, 1.2114774058826732, 1.5188586428411694, 1.1688430254617796, 3.5217969353585317, 3.317941580108757, 3.203165451442609, 1.3389437548383605, 3.243254759446086, 1.2937786279138046, 1.7367879362102097, 1.5912169902474607, 1.5502736787237543, 1.0611173370101497, 2.7101371233117333, 3.4084241680168716, 2.583813121604441, 2.838203471910839, 1.2044866262048681, 1.1754988685123737, 2.0561783644253655, 7.965423284572669, 1.2251441050386351, 1.860036977603129, 1.7497916924920018, 1.9872493974338692, 1.1923914830872213, 1.5199836825957598, 1.3543134979633698, 6.397232967925124, 4.98832516243312, 1.7428055391670205, 2.5407049214609954, 1.1700287467258206, 2.0370900353885903, 1.4217675370736422, 7.081716767615338, 3.0388373981770194, 2.7236122316271802, 1.142369577914282, 1.8872101017527503, 69.37799000100013, 18.993667949351433, 2.8124692312189223, 1.1786519904162465, 2.7661577780317534, 2.299360400695525, 1.8803961675590803, 1.7470588369267237, 2.4917180642656116, 6.627780094648924, 4.005927480062899, 2.3740629619135967, 13.1198260690349, 1.0691473662016884, 103.68240743174644, 1.0559010354857454, 1.248901046060629, 1.7310918732859009, 1.1203243690674134, 2.652848794984389, 1.0503590127725992, 1.3973101220894697, 1.0649351042679758, 3.364916572342833, 3.0101234493163154, 1.608239364481795, 1.2315362933690213, 3.9410082176949905, 1.5152408488726636, 4.86631896343736, 1.9508884825460562, 2.105900580335382, 1.0292961975228192, 2.805739999741701, 1.539185774929798, 1.2969761894333294, 1.7650676989150178, 1.6183455386500742, 1.8843721050208986, 46.520003293995146, 1.5723608950215748, 4.417658184181926, 2.233213747705379, 8.947901934112455, 1.5494216665293445, 1.3249826943955634, 11.124487741174718, 1.0454681735295686, 19.921380127082116, 2.251494192186199, 1.602530340204244, 168.27283131191817, 1.061914143263044, 2.066925618775541, 1.0320620162848186, 2.3288556767805346, 1.2199407223398793, 2.7051025025055426, 49.857288683415995, 7.938249856988628, 1.822769939477701, 3.4217561800932517, 4.478105492754154, 1.9776456472181734, 2.118666316878414, 1.1773482168026104, 1.5848627242826325, 1.1656085316588938, 3.6518589331707116, 1.9103509782573183, 1.8130063702125718, 8.704127208052922, 2.1145724117533433, 1.6911366847267442, 1.3672841475836885, 1.0775165667391278, 1.7173809182901814, 1.0264071242587736, 1.4101643252117426, 2.0120967268844123, 28.544622687100684, 1.1226791109467595, 3.0522050354494064, 1.997732328996881, 4.470694995368202, 1.1674924216293738, 1.090654592172104, 1.663393625734451, 4.905935788194239, 1.236833999737811, 4.292018923457372, 1.4084659772828685, 1.2766086674223753, 1.0169824614634206, 1.6618484165464127, 1.6147273723861832, 2.9298499400865534, 1.0762495722744714, 1.179873319367547, 1.016838134862838, 1.1282639322798684, 2.8664587393995875, 1.6729519340414873, 1.4721150954341857, 2.2591420363300867, 132.74928315766311, 6.011494970424816, 3.321415642485821, 12.097798195519138, 1.04132929547426, 1.0755731097600165, 1.899451702422133, 1.5356695625410894, 15.702237852181636, 1.9572359454432875, 2.1697125788986376, 9.46656882141013, 1.8056682443293928, 8.074762930327934, 1.3392764486850193, 1.3765305021482734, 1.488168381344197, 2.2075869324766675, 1.2819009797414744, 3.0372771885412964, 1.1663854563121698, 1.10376028130737, 7.65237140571565, 1.3099838919900606, 1.6276518703549254, 2.3308423267318994, 2.1064878831721874, 1.082190010617756, 7.889658995025415, 20.074066399645638, 5.31052771447994, 1.3957085400813973, 2.1155914724427682, 1.5130362613290012, 2.242718896085465, 37.63510831340182, 1.4522033722113967, 3.0132081809621307, 1.4828902054312687, 4.41896740340792]\n"
     ]
    },
    {
     "ename": "TypeError",
     "evalue": "unsupported operand type(s) for -: 'NoneType' and 'int'",
     "output_type": "error",
     "traceback": [
      "\u001b[0;31m---------------------------------------------------------------------------\u001b[0m",
      "\u001b[0;31mTypeError\u001b[0m                                 Traceback (most recent call last)",
      "\u001b[0;32m<ipython-input-51-36096338ca25>\u001b[0m in \u001b[0;36m<module>\u001b[0;34m\u001b[0m\n\u001b[1;32m      1\u001b[0m \u001b[0mbins\u001b[0m \u001b[0;34m=\u001b[0m \u001b[0;36m100\u001b[0m\u001b[0;34m\u001b[0m\u001b[0;34m\u001b[0m\u001b[0m\n\u001b[1;32m      2\u001b[0m \u001b[0mx_train\u001b[0m \u001b[0;34m=\u001b[0m \u001b[0mpower_law_generate\u001b[0m\u001b[0;34m(\u001b[0m\u001b[0;36m1000\u001b[0m\u001b[0;34m,\u001b[0m \u001b[0mx_min\u001b[0m\u001b[0;34m=\u001b[0m\u001b[0;36m1\u001b[0m\u001b[0;34m,\u001b[0m \u001b[0malpha\u001b[0m\u001b[0;34m=\u001b[0m\u001b[0;36m2\u001b[0m\u001b[0;34m)\u001b[0m\u001b[0;34m\u001b[0m\u001b[0;34m\u001b[0m\u001b[0m\n\u001b[0;32m----> 3\u001b[0;31m \u001b[0;32massert\u001b[0m \u001b[0mnp\u001b[0m\u001b[0;34m.\u001b[0m\u001b[0mabs\u001b[0m\u001b[0;34m(\u001b[0m\u001b[0malpha_lin_bins\u001b[0m\u001b[0;34m(\u001b[0m\u001b[0mx_train\u001b[0m\u001b[0;34m,\u001b[0m \u001b[0mbins\u001b[0m\u001b[0;34m)\u001b[0m \u001b[0;34m-\u001b[0m \u001b[0;36m2\u001b[0m\u001b[0;34m)\u001b[0m \u001b[0;34m<\u001b[0m \u001b[0;36m0.7\u001b[0m\u001b[0;34m\u001b[0m\u001b[0;34m\u001b[0m\u001b[0m\n\u001b[0m\u001b[1;32m      4\u001b[0m \u001b[0mx_train\u001b[0m \u001b[0;34m=\u001b[0m \u001b[0mpower_law_generate\u001b[0m\u001b[0;34m(\u001b[0m\u001b[0;36m1000\u001b[0m\u001b[0;34m,\u001b[0m \u001b[0mx_min\u001b[0m\u001b[0;34m=\u001b[0m\u001b[0;36m1\u001b[0m\u001b[0;34m,\u001b[0m \u001b[0malpha\u001b[0m\u001b[0;34m=\u001b[0m\u001b[0;36m3.5\u001b[0m\u001b[0;34m)\u001b[0m\u001b[0;34m\u001b[0m\u001b[0;34m\u001b[0m\u001b[0m\n\u001b[1;32m      5\u001b[0m \u001b[0;32massert\u001b[0m \u001b[0mnp\u001b[0m\u001b[0;34m.\u001b[0m\u001b[0mabs\u001b[0m\u001b[0;34m(\u001b[0m\u001b[0malpha_lin_bins\u001b[0m\u001b[0;34m(\u001b[0m\u001b[0mx_train\u001b[0m\u001b[0;34m,\u001b[0m \u001b[0mbins\u001b[0m\u001b[0;34m)\u001b[0m \u001b[0;34m-\u001b[0m \u001b[0;36m3.5\u001b[0m\u001b[0;34m)\u001b[0m \u001b[0;34m<\u001b[0m \u001b[0;36m0.9\u001b[0m\u001b[0;34m\u001b[0m\u001b[0;34m\u001b[0m\u001b[0m\n",
      "\u001b[0;31mTypeError\u001b[0m: unsupported operand type(s) for -: 'NoneType' and 'int'"
     ]
    }
   ],
   "source": [
    "bins = 100\n",
    "x_train = power_law_generate(1000, x_min=1, alpha=2)\n",
    "assert np.abs(alpha_lin_bins(x_train, bins) - 2) < 0.7\n",
    "x_train = power_law_generate(1000, x_min=1, alpha=3.5)\n",
    "assert np.abs(alpha_lin_bins(x_train, bins) - 3.5) < 0.9\n",
    "x_train = power_law_generate(1000, x_min=1, alpha=10)\n",
    "assert np.abs(alpha_lin_bins(x_train, bins) - 10) < 2"
   ]
  },
  {
   "cell_type": "code",
   "execution_count": null,
   "metadata": {},
   "outputs": [],
   "source": [
    "x_min = 1\n",
    "alpha = 3.5\n",
    "bins = 100\n",
    "\n",
    "x_train = power_law_generate(1000, alpha, x_min)\n",
    "hist, bin_edges = np.histogram(x_train, bins=bins, density=True)\n",
    "bin_centers = (bin_edges[1:] + bin_edges[:-1]) / 2\n",
    "plt.scatter(bin_centers, hist, s=10)\n",
    "\n",
    "hat_alpha = alpha_lin_bins(x_train, bins)\n",
    "x_space = np.linspace(x_min, x_train.max(), 100)\n",
    "plt.plot(x_space, power_law_pdf(x_space, hat_alpha, x_min), \n",
    "         label='Estimated PDF', c='tab:orange')\n",
    "plt.legend()\n",
    "plt.title('Truth alpha = {:.2f}, estimated alpha = {:.2f}'.format(alpha, hat_alpha))\n",
    "plt.xscale('log')\n",
    "plt.yscale('log')\n",
    "plt.show()"
   ]
  },
  {
   "cell_type": "markdown",
   "metadata": {},
   "source": [
    "### Task 4. Estimation of alpha with logarithmic binning (2 points)"
   ]
  },
  {
   "cell_type": "markdown",
   "metadata": {},
   "source": [
    "As we see the estimation with linear binning is noticeably inaccurate. For logarithmic binning we let the bin sizes increase with the value, making sure that each bin has a comparable number of observations.\n",
    "\n",
    "Write a function `alpha_log_bins` that takes a train set, number of log bins and returns an estimated $\\alpha$.\n",
    "\n",
    "*Hint: use `np.logspace(np.log10(x_min), np.log10(x_train.max()), bins)` to generate an increasing logarithmic sequence of bins*"
   ]
  },
  {
   "cell_type": "code",
   "execution_count": null,
   "metadata": {
    "deletable": false,
    "nbgrader": {
     "cell_type": "code",
     "checksum": "f20a7d7035785da992e45b13ecfac97b",
     "grade": false,
     "grade_id": "cell-bc1092822f8126d1",
     "locked": false,
     "schema_version": 3,
     "solution": true,
     "task": false
    }
   },
   "outputs": [],
   "source": [
    "def alpha_log_bins(x_train, bins):\n",
    "    # YOUR CODE HERE\n",
    "    raise NotImplementedError()"
   ]
  },
  {
   "cell_type": "code",
   "execution_count": null,
   "metadata": {
    "deletable": false,
    "editable": false,
    "nbgrader": {
     "cell_type": "code",
     "checksum": "fdaf8d2b30bf5ffd1142ff90e2c8ae80",
     "grade": true,
     "grade_id": "cell-1bc5eba53dc73dbd",
     "locked": true,
     "points": 2,
     "schema_version": 3,
     "solution": false,
     "task": false
    }
   },
   "outputs": [],
   "source": [
    "bins = 100\n",
    "x_train = power_law_generate(1000, x_min=1, alpha=2)\n",
    "assert np.abs(alpha_log_bins(x_train, bins) - 2) < 0.2\n",
    "x_train = power_law_generate(1000, x_min=1, alpha=3.5)\n",
    "assert np.abs(alpha_log_bins(x_train, bins) - 3.5) < 0.5\n",
    "x_train = power_law_generate(1000, x_min=1, alpha=10)\n",
    "assert np.abs(alpha_log_bins(x_train, bins) - 10) < 1.5"
   ]
  },
  {
   "cell_type": "code",
   "execution_count": null,
   "metadata": {},
   "outputs": [],
   "source": [
    "x_min = 1\n",
    "alpha = 3.5\n",
    "bins = 100\n",
    "\n",
    "x_train = power_law_generate(1000, alpha, x_min)\n",
    "binning = np.logspace(np.log10(x_min), np.log10(x_train.max()), bins)\n",
    "hist, bin_edges = np.histogram(x_train, bins=binning, density=True)\n",
    "bin_centers = (bin_edges[1:] + bin_edges[:-1]) / 2\n",
    "plt.scatter(bin_centers, hist, s=10)\n",
    "\n",
    "hat_alpha = alpha_log_bins(x_train, bins)\n",
    "x_space = np.linspace(x_min, x_train.max(), 100)\n",
    "plt.plot(x_space, power_law_pdf(x_space, hat_alpha, x_min), \n",
    "         label='Estimated PDF', c='tab:orange')\n",
    "plt.legend()\n",
    "plt.title('Truth alpha = {:.2f}, estimated alpha = {:.2f}'.format(alpha, hat_alpha))\n",
    "plt.xscale('log')\n",
    "plt.yscale('log')\n",
    "plt.show()"
   ]
  },
  {
   "cell_type": "markdown",
   "metadata": {},
   "source": [
    "### Task 5. Generation graphs with a given degree distribution (0.6 point)"
   ]
  },
  {
   "cell_type": "markdown",
   "metadata": {},
   "source": [
    "In this task we will generate different types of graph from its degree distributions.\n",
    "\n",
    "__Graph A__ should be described with the density `[0, 2, 10]`."
   ]
  },
  {
   "cell_type": "code",
   "execution_count": null,
   "metadata": {},
   "outputs": [],
   "source": [
    "dens_a = [0, 2, 10]\n",
    "plt.bar(range(len(dens_a)), dens_a);"
   ]
  },
  {
   "cell_type": "code",
   "execution_count": null,
   "metadata": {
    "deletable": false,
    "nbgrader": {
     "cell_type": "code",
     "checksum": "7726ebdf8814362b9595c84fe0221e09",
     "grade": false,
     "grade_id": "cell-4308485bfb1bf30e",
     "locked": false,
     "schema_version": 3,
     "solution": true,
     "task": false
    }
   },
   "outputs": [],
   "source": [
    "def generate_graph_a() -> nx.Graph:\n",
    "    # YOUR CODE HERE\n",
    "    raise NotImplementedError()"
   ]
  },
  {
   "cell_type": "code",
   "execution_count": null,
   "metadata": {
    "deletable": false,
    "editable": false,
    "nbgrader": {
     "cell_type": "code",
     "checksum": "3f1eedc648e3171726e3ed3c949afb83",
     "grade": true,
     "grade_id": "cell-226da2d721eaace4",
     "locked": true,
     "points": 0.15,
     "schema_version": 3,
     "solution": false,
     "task": false
    }
   },
   "outputs": [],
   "source": [
    "assert nx.degree_histogram(generate_graph_a()) == dens_a"
   ]
  },
  {
   "cell_type": "markdown",
   "metadata": {},
   "source": [
    "__Graph B__"
   ]
  },
  {
   "cell_type": "code",
   "execution_count": null,
   "metadata": {},
   "outputs": [],
   "source": [
    "dens_b = [0, 0, 10]\n",
    "plt.bar(range(len(dens_b)), dens_b);"
   ]
  },
  {
   "cell_type": "code",
   "execution_count": null,
   "metadata": {
    "deletable": false,
    "nbgrader": {
     "cell_type": "code",
     "checksum": "41e7af615198bd34567381ea1b34f56c",
     "grade": false,
     "grade_id": "cell-55d7cfacd5c8d553",
     "locked": false,
     "schema_version": 3,
     "solution": true,
     "task": false
    }
   },
   "outputs": [],
   "source": [
    "def generate_graph_b() -> nx.Graph:\n",
    "    # YOUR CODE HERE\n",
    "    raise NotImplementedError()"
   ]
  },
  {
   "cell_type": "code",
   "execution_count": null,
   "metadata": {
    "deletable": false,
    "editable": false,
    "nbgrader": {
     "cell_type": "code",
     "checksum": "7447308c0c61ffcff7ad80842ad13fd1",
     "grade": true,
     "grade_id": "cell-11bb8205ad27326a",
     "locked": true,
     "points": 0.15,
     "schema_version": 3,
     "solution": false,
     "task": false
    }
   },
   "outputs": [],
   "source": [
    "assert nx.degree_histogram(generate_graph_b()) == dens_b"
   ]
  },
  {
   "cell_type": "markdown",
   "metadata": {},
   "source": [
    "__Graph C__"
   ]
  },
  {
   "cell_type": "code",
   "execution_count": null,
   "metadata": {},
   "outputs": [],
   "source": [
    "dens_c = [0, 0, 0, 0, 5]\n",
    "plt.bar(range(len(dens_c)), dens_c);"
   ]
  },
  {
   "cell_type": "code",
   "execution_count": null,
   "metadata": {
    "deletable": false,
    "nbgrader": {
     "cell_type": "code",
     "checksum": "dac931bc16a78ae011fdaab8f99a54ca",
     "grade": false,
     "grade_id": "cell-6ad0ea3f81976162",
     "locked": false,
     "schema_version": 3,
     "solution": true,
     "task": false
    }
   },
   "outputs": [],
   "source": [
    "def generate_graph_c() -> nx.Graph:\n",
    "    # YOUR CODE HERE\n",
    "    raise NotImplementedError()"
   ]
  },
  {
   "cell_type": "code",
   "execution_count": null,
   "metadata": {
    "deletable": false,
    "editable": false,
    "nbgrader": {
     "cell_type": "code",
     "checksum": "f710e78a7a1e58bb99cc7e4e7f015979",
     "grade": true,
     "grade_id": "cell-508d2e23c067c4d2",
     "locked": true,
     "points": 0.15,
     "schema_version": 3,
     "solution": false,
     "task": false
    }
   },
   "outputs": [],
   "source": [
    "assert nx.degree_histogram(generate_graph_c()) == dens_c"
   ]
  },
  {
   "cell_type": "markdown",
   "metadata": {},
   "source": [
    "__Graph D__"
   ]
  },
  {
   "cell_type": "code",
   "execution_count": null,
   "metadata": {},
   "outputs": [],
   "source": [
    "dens_d = [0, 5, 0, 0, 0, 1]\n",
    "plt.bar(range(len(dens_d)), dens_d);"
   ]
  },
  {
   "cell_type": "code",
   "execution_count": null,
   "metadata": {
    "deletable": false,
    "nbgrader": {
     "cell_type": "code",
     "checksum": "f1ab3b74f2b7a677c3844675c785ef5a",
     "grade": false,
     "grade_id": "cell-2a6c0c0fe4dda491",
     "locked": false,
     "schema_version": 3,
     "solution": true,
     "task": false
    }
   },
   "outputs": [],
   "source": [
    "def generate_graph_d() -> nx.Graph:\n",
    "    # YOUR CODE HERE\n",
    "    raise NotImplementedError()"
   ]
  },
  {
   "cell_type": "code",
   "execution_count": null,
   "metadata": {
    "deletable": false,
    "editable": false,
    "nbgrader": {
     "cell_type": "code",
     "checksum": "87569732e965a2bb960b4e5b73bb1bbc",
     "grade": true,
     "grade_id": "cell-c9c34144467f9031",
     "locked": true,
     "points": 0.15,
     "schema_version": 3,
     "solution": false,
     "task": false
    }
   },
   "outputs": [],
   "source": [
    "assert nx.degree_histogram(generate_graph_d()) == dens_d"
   ]
  },
  {
   "cell_type": "markdown",
   "metadata": {},
   "source": [
    "### Task 6. Reading a degree distribution from a file (2 points)"
   ]
  },
  {
   "cell_type": "markdown",
   "metadata": {},
   "source": [
    "In this task we will estimate CDF of degree distribution of a given graph. Firstly, let us download the Game of Thrones relationships dataset and create a graph."
   ]
  },
  {
   "cell_type": "code",
   "execution_count": null,
   "metadata": {},
   "outputs": [],
   "source": [
    "raw_data = pd.read_csv(\"https://raw.githubusercontent.com/network-science-course/network-science-course/main/datasets/game_of_thrones_relationships.csv\")\n"
   ]
  },
  {
   "cell_type": "code",
   "execution_count": null,
   "metadata": {},
   "outputs": [],
   "source": [
    "raw_data.head()"
   ]
  },
  {
   "cell_type": "code",
   "execution_count": null,
   "metadata": {},
   "outputs": [],
   "source": [
    "g = nx.from_pandas_edgelist(raw_data, source=\"character1\", target=\"character2\")"
   ]
  },
  {
   "cell_type": "code",
   "execution_count": null,
   "metadata": {},
   "outputs": [],
   "source": [
    "nx.draw(g, node_size=10)"
   ]
  },
  {
   "cell_type": "markdown",
   "metadata": {},
   "source": [
    "In the social network analysis, we will often consider the largest connected component only. Before estimation of CDF, we need to remove all connected components except of the largest one.\n",
    "\n",
    "_Hint: use `nx.connected_components` to get a list of nodes for each connected component._"
   ]
  },
  {
   "cell_type": "code",
   "execution_count": null,
   "metadata": {
    "deletable": false,
    "nbgrader": {
     "cell_type": "code",
     "checksum": "07e8207f2a0510ee621508841df6acd0",
     "grade": false,
     "grade_id": "cell-37477b43188105f5",
     "locked": false,
     "schema_version": 3,
     "solution": true,
     "task": false
    }
   },
   "outputs": [],
   "source": [
    "def select_gygantic_component(g: nx.Graph) -> nx.Graph:\n",
    "    # YOUR CODE HERE\n",
    "    raise NotImplementedError()"
   ]
  },
  {
   "cell_type": "code",
   "execution_count": null,
   "metadata": {
    "deletable": false,
    "editable": false,
    "nbgrader": {
     "cell_type": "code",
     "checksum": "9e8ea27b74e04a5eecf05c29c5d5558e",
     "grade": true,
     "grade_id": "cell-00509dc9b42f24ea",
     "locked": true,
     "points": 1,
     "schema_version": 3,
     "solution": false,
     "task": false
    }
   },
   "outputs": [],
   "source": [
    "gg = select_gygantic_component(g)\n",
    "assert gg.number_of_edges() == 49\n",
    "assert gg.number_of_nodes() == 37"
   ]
  },
  {
   "cell_type": "code",
   "execution_count": null,
   "metadata": {},
   "outputs": [],
   "source": [
    "nx.draw(gg, node_size=30)"
   ]
  },
  {
   "cell_type": "markdown",
   "metadata": {},
   "source": [
    "Now we can calculate an empirical CDF for a given graph. Recall a formal definition of CDF\n",
    "\n",
    "$$F_X(x) = P(X \\leq x)$$\n",
    "\n",
    "And in empirical CDF, we estimate probability by share of nodes.\n",
    "\n",
    "Write a method `empirical_cdf` that takes a graph and returns a np.array of probabilities. The first element is related to the node degree 0, the second — the node degree 1 and so on. The method should be able to group degrees occurence into equaly distributed bins. \n",
    "\n",
    "_Hint: use `nx.degee_histogram` to return a degree histogram — a list of numbers of nodes for each degree._"
   ]
  },
  {
   "cell_type": "code",
   "execution_count": null,
   "metadata": {},
   "outputs": [],
   "source": [
    "nx.degree_histogram(g)"
   ]
  },
  {
   "cell_type": "code",
   "execution_count": null,
   "metadata": {
    "deletable": false,
    "nbgrader": {
     "cell_type": "code",
     "checksum": "bc0bf47192b76ea6bcdde2ddec48367f",
     "grade": false,
     "grade_id": "cell-cbb478364b51233f",
     "locked": false,
     "schema_version": 3,
     "solution": true,
     "task": false
    }
   },
   "outputs": [],
   "source": [
    "def empirical_cdf(g: nx.Graph) -> List[float]:\n",
    "    # YOUR CODE HERE\n",
    "    raise NotImplementedError()"
   ]
  },
  {
   "cell_type": "code",
   "execution_count": null,
   "metadata": {
    "deletable": false,
    "editable": false,
    "nbgrader": {
     "cell_type": "code",
     "checksum": "9ab0814dc4b3d51e6e7fa7db68fd2dda",
     "grade": true,
     "grade_id": "cell-a1fd6b06aff25d78",
     "locked": true,
     "points": 1,
     "schema_version": 3,
     "solution": false,
     "task": false
    }
   },
   "outputs": [],
   "source": [
    "ecdf = empirical_cdf(gg)\n",
    "assert ecdf[0] == 0\n",
    "assert ecdf[-1] == 1\n",
    "assert np.all(ecdf[:-1] <= ecdf[1:])\n",
    "assert adler32(str(empirical_cdf(gg).round(4).sum()).encode()) == 70123823"
   ]
  },
  {
   "cell_type": "code",
   "execution_count": null,
   "metadata": {},
   "outputs": [],
   "source": [
    "plt.plot(ecdf)\n",
    "plt.xlabel('degree')\n",
    "plt.ylabel('probability')\n",
    "plt.title('Empirical CDF')\n",
    "plt.show()"
   ]
  },
  {
   "cell_type": "markdown",
   "metadata": {},
   "source": [
    "### Task 7. MLE of alpha in Power Law (3 points)"
   ]
  },
  {
   "cell_type": "markdown",
   "metadata": {},
   "source": [
    "Let us estimate $\\alpha$ and $x_\\min$ of a real social network using maximum likelihood. Here is a real degree distribution of the network of emails between members of the research institution with 1005 nodes."
   ]
  },
  {
   "cell_type": "code",
   "execution_count": null,
   "metadata": {},
   "outputs": [],
   "source": [
    "url = 'https://raw.githubusercontent.com/network-science-course/network-science-course/main/datasets/email_degree_sequence.txt'\n",
    "open('email_degree_sequence.txt', 'wb').write(requests.get(url).content);\n"
   ]
  },
  {
   "cell_type": "code",
   "execution_count": null,
   "metadata": {},
   "outputs": [],
   "source": [
    "degree_sequence = np.loadtxt('email_degree_sequence.txt')\n",
    "hist, bin_edges = np.histogram(degree_sequence, bins=1000, density=True)\n",
    "bin_centers = (bin_edges[1:] + bin_edges[:-1]) / 2\n",
    "plt.scatter(bin_centers[hist > 0], hist[hist > 0], s=5)\n",
    "plt.title('Email network degree distribution')\n",
    "plt.xscale('log')\n",
    "plt.yscale('log')"
   ]
  },
  {
   "cell_type": "markdown",
   "metadata": {},
   "source": [
    "The MLE consists of:\n",
    "1. Fix $x_\\min$ as a minimal node degree (drop node degrees that less than $x_\\min$)\n",
    "2. Calculate $\\alpha$ via maximum likelihood estimation using fixed $x_\\min$\n",
    "$$\\alpha = 1 + n \\left[\\sum_i \\log \\frac{x_i}{x_\\min} \\right]^{-1}$$\n",
    "3. Calculate Kolmogorov-Smirnov test\n",
    "4. Fix $x_\\min$ as the next node degree\n",
    "5. Repeat 2-4 by scanning all possible $x_\\min$ and find the best $\\alpha$ and $x_\\min$ with respect to Kolmogorov-Smirnov test\n",
    "\n",
    "Write a function `ml_power_law_params` that takes a node degree sequence `degree_sequence` and returns a tuple of two values: the best $\\alpha$ and $x_\\min$.\n",
    "\n",
    "_Hints:_\n",
    "* _To calculate Kolmogorov-Smirnov distance use `scipy.stats.kstest` with a parameter `cdf=power_law_cdf`_"
   ]
  },
  {
   "cell_type": "code",
   "execution_count": null,
   "metadata": {
    "deletable": false,
    "nbgrader": {
     "cell_type": "code",
     "checksum": "8bc64f253c03d807aade17cb9dee113b",
     "grade": false,
     "grade_id": "cell-c0da4153dae3178a",
     "locked": false,
     "schema_version": 3,
     "solution": true,
     "task": false
    }
   },
   "outputs": [],
   "source": [
    "def mle_power_law_params(degree_sequence):\n",
    "    # YOUR CODE HERE\n",
    "    raise NotImplementedError()"
   ]
  },
  {
   "cell_type": "code",
   "execution_count": null,
   "metadata": {
    "deletable": false,
    "editable": false,
    "nbgrader": {
     "cell_type": "code",
     "checksum": "efcacc9ad86394f0fb939e7c9d8dad7a",
     "grade": true,
     "grade_id": "cell-213992ed205e9591",
     "locked": true,
     "points": 3,
     "schema_version": 3,
     "solution": false,
     "task": false
    }
   },
   "outputs": [],
   "source": [
    "alpha, x_min = 3.5, 3\n",
    "hat_alpha, hat_x_min = mle_power_law_params(power_law_generate(1000, alpha, x_min))\n",
    "assert np.abs(hat_alpha - alpha) < 0.05\n",
    "assert np.abs(hat_x_min - x_min) < 0.001\n",
    "\n",
    "alpha, x_min = 7, 1\n",
    "hat_alpha, hat_x_min = mle_power_law_params(power_law_generate(1000, alpha, x_min))\n",
    "assert np.abs(hat_alpha - alpha) < 0.1\n",
    "assert np.abs(hat_x_min - x_min) < 0.0001\n",
    "\n",
    "hat_alpha, hat_x_min = mle_power_law_params(degree_sequence)\n",
    "assert np.abs(hat_alpha - 2.9) < 0.1\n",
    "assert np.abs(hat_x_min - 42) < 1"
   ]
  },
  {
   "cell_type": "code",
   "execution_count": null,
   "metadata": {},
   "outputs": [],
   "source": [
    "hist, bin_edges = np.histogram(degree_sequence, bins=1000, density=True)\n",
    "bin_centers = (bin_edges[1:] + bin_edges[:-1]) / 2\n",
    "plt.scatter(bin_centers[hist > 0], hist[hist > 0], s=5)\n",
    "plt.title('Email network degree distribution')\n",
    "\n",
    "hat_alpha, hat_x_min = mle_power_law_params(degree_sequence)\n",
    "x_space = np.linspace(hat_x_min, degree_sequence.max(), 100)\n",
    "plt.plot(x_space, power_law_pdf(x_space, hat_alpha, hat_x_min), \n",
    "         label='Estimated PDF', c='tab:orange')\n",
    "plt.xscale('log')\n",
    "plt.yscale('log')\n",
    "plt.ylim(0.001, 0.5);"
   ]
  },
  {
   "cell_type": "markdown",
   "metadata": {},
   "source": [
    "### Task 8. QQ plot (0.6 point)"
   ]
  },
  {
   "cell_type": "markdown",
   "metadata": {},
   "source": [
    "It might be useful to draw a quantile-quantile plot (QQ plot) to compare empirical and theoretical distributions by the eye. Your task here is to generate Power Law observations by given parameters and compare theoretical and empirical quantiles.\n",
    "\n",
    "Write a function `qqplot_data` that takes $\\alpha$, $x_\\min$, number of observations $n$ that will be generated and returns a tuple with two np.arrays: theoretical quantiles and empirical quantiles. Let quantiles be calculated for probabilities 0, 0.01, 0.02, ..., 0.99.\n",
    "\n",
    "_Hint: to calculate an empirical quantile, use `np.quantile`_"
   ]
  },
  {
   "cell_type": "code",
   "execution_count": null,
   "metadata": {
    "deletable": false,
    "nbgrader": {
     "cell_type": "code",
     "checksum": "8eec986886f46027e0d0884381921de0",
     "grade": false,
     "grade_id": "cell-7536b41d94152420",
     "locked": false,
     "schema_version": 3,
     "solution": true,
     "task": false
    }
   },
   "outputs": [],
   "source": [
    "def qqplot_data(alpha, x_min, n):\n",
    "    # YOUR CODE HERE\n",
    "    raise NotImplementedError()"
   ]
  },
  {
   "cell_type": "code",
   "execution_count": null,
   "metadata": {
    "deletable": false,
    "editable": false,
    "nbgrader": {
     "cell_type": "code",
     "checksum": "cb13371548049cc2ba8c8b0b2d7117bf",
     "grade": true,
     "grade_id": "cell-cee74bedb007dbfa",
     "locked": true,
     "points": 0.6,
     "schema_version": 3,
     "solution": false,
     "task": false
    }
   },
   "outputs": [],
   "source": [
    "x_min = 1\n",
    "alpha = 3.5\n",
    "\n",
    "theor100, empir100 = qqplot_data(alpha, x_min, 100)\n",
    "theor200, empir200 = qqplot_data(alpha, x_min, 200)\n",
    "theor1000, empir1000 = qqplot_data(alpha, x_min, 1000)\n",
    "assert np.linalg.norm(theor1000 - empir1000) < np.linalg.norm(theor200 - empir200)\n",
    "assert np.linalg.norm(theor200 - empir200) < np.linalg.norm(theor100 - empir100)"
   ]
  },
  {
   "cell_type": "code",
   "execution_count": null,
   "metadata": {},
   "outputs": [],
   "source": [
    "plt.figure(figsize=(12, 3))\n",
    "\n",
    "plt.subplots_adjust(wspace=0.3)\n",
    "\n",
    "plt.subplot(1, 3, 1)\n",
    "plt.scatter(theor100, empir100, s=10)\n",
    "plt.plot([1, 7], [1, 7], '--', c='tab:orange')\n",
    "plt.title('QQ plot, N = 100')\n",
    "plt.xlabel('Theoretical distribution')\n",
    "plt.ylabel('Empirical distribution')\n",
    "plt.axis('square')\n",
    "\n",
    "plt.subplot(1, 3, 2)\n",
    "plt.scatter(theor200, empir200, s=10)\n",
    "plt.plot([1, 7], [1, 7], '--', c='tab:orange')\n",
    "plt.title('QQ plot, N = 200')\n",
    "plt.xlabel('Theoretical distribution')\n",
    "plt.ylabel('Empirical distribution')\n",
    "plt.axis('square')\n",
    "\n",
    "plt.subplot(1, 3, 3)\n",
    "plt.scatter(theor1000, empir1000, s=10)\n",
    "plt.plot([1, 7], [1, 7], '--', c='tab:orange')\n",
    "plt.title('QQ plot, N = 1000')\n",
    "plt.xlabel('Theoretical distribution')\n",
    "plt.ylabel('Empirical distribution')\n",
    "plt.axis('square');"
   ]
  },
  {
   "cell_type": "code",
   "execution_count": null,
   "metadata": {},
   "outputs": [],
   "source": []
  }
 ],
 "metadata": {
  "kernelspec": {
   "display_name": "Python 3",
   "language": "python",
   "name": "python3"
  },
  "language_info": {
   "codemirror_mode": {
    "name": "ipython",
    "version": 3
   },
   "file_extension": ".py",
   "mimetype": "text/x-python",
   "name": "python",
   "nbconvert_exporter": "python",
   "pygments_lexer": "ipython3",
   "version": "3.9.5"
  }
 },
 "nbformat": 4,
 "nbformat_minor": 4
}
