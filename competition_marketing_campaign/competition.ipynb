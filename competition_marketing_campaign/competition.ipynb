{
 "cells": [
  {
   "cell_type": "markdown",
   "metadata": {},
   "source": [
    "# Competition — Marketing Campaign"
   ]
  },
  {
   "cell_type": "markdown",
   "metadata": {},
   "source": [
    "### Challenge Overview"
   ]
  },
  {
   "cell_type": "markdown",
   "metadata": {},
   "source": [
    "You are running the marketing campaign for a brand new pocket device. Initially you can sign contracts with a few people to advertize your gadget among their neigbours. The more \"famous\" person you are picking the greater price appears in the contract. Contract cost can be calculated as 300\\\\$ * NN(i), where NN(i) is the number of neigbours of the person i. If at least 18\\% a person's neighbors have already been affected, then he/she will also be affected tomorrow. You earn 50\\\\$ per each affected person. Every day you have to choose whether to sign new contracts or wait. You need time to discuss terms of a contract, so you cannot sign more than 10 contracts on the same day. Your task is to maximize profit of your campaign with an initial budget of 10,000\\\\$. Your campaign is considered completed after 60 days.\n",
    "\n",
    "Again, all parameters of the task:\n",
    "* Budget: 10,000\\\\$\n",
    "* Contract cost: 300$ * NN(i)\n",
    "* Income per person: 50\\\\$\n",
    "* Exposure threshold: 18%\n",
    "* Contracts limit: 10 per day\n",
    "* Time limit: 60 days\n",
    "\n",
    "A model of society is based on undirected SNAP Facebook network `edge_list.txt`"
   ]
  },
  {
   "cell_type": "markdown",
   "metadata": {},
   "source": [
    "### Evaluation Criteria"
   ]
  },
  {
   "cell_type": "markdown",
   "metadata": {},
   "source": [
    "On the leaderboard you will see three scores:\n",
    "* Profit — calculated as \"total amount of money at the end - initial budget\". This is the main score.\n",
    "* Accepted — the total number of accepted people at the end.\n",
    "* Days — the total duration of your campaign.\n",
    "\n",
    "**Baselines**\n",
    "\n",
    "Baselines are calculated as follows:\n",
    "1. Simultaneously sign 10 random contracts on the first day. Decrease the number of contracts if you do not have enough money\n",
    "1. Wait the end of the campaign and calculate your profit.\n",
    "1. Repeat 10000 times\n",
    "\n",
    "Baseline for grade 4: beat an average positive profit\n",
    "\n",
    "Baseline for grade 6: beat an average + standard deviation positive profit\n",
    "\n",
    "Baseline for grade 8: beat a maximum positive profit"
   ]
  },
  {
   "cell_type": "markdown",
   "metadata": {},
   "source": [
    "### Submission Guidelines"
   ]
  },
  {
   "cell_type": "markdown",
   "metadata": {},
   "source": [
    "Submit a txt with days and contracts which will be signed. That looks like a python dict object, the key is a day, the value is a list of counterparties. Numbering of days from 0. \n",
    "\n",
    "**Example 1**\n",
    "```\n",
    "{\n",
    "    # On the first day, I will sign contracts with 47 and 138\n",
    "    0: [47, 138],\n",
    "    # On the third day, I will sign 2 more contracts\n",
    "    2: [3789, 262]\n",
    "}\n",
    "```\n",
    "\n",
    "Result of this campaign: \n",
    "\n",
    "* Profit: -2350\n",
    "* Days: 10\n",
    "* Affected: 29\n",
    "\n",
    "**Example 2**\n",
    "```\n",
    "{\n",
    "    # I do not want to do anything\n",
    "}\n",
    "```\n",
    "\n",
    "Result of this campaign: \n",
    "* Profit: 0\n",
    "* Days: 1\n",
    "* Affected: 0\n",
    "\n",
    "**Exceptions**\n",
    "\n",
    "You may encounter two types of exceptions after submission:\n",
    "1. You cannot sign more than 10 contracts at the same day.\n",
    "1. Not enough money for the contract with 2919. The contract cost is 300\\\\$, you have only 100\\\\$.\n",
    "\n",
    "In this case, the evaluation will be interrupted and your scores will not be calculated. You can find log files with detailed information on the My Submissions page, stdout file. To sign a contract with an already affected person is not a problem, you will just waste your money."
   ]
  },
  {
   "cell_type": "code",
   "execution_count": null,
   "metadata": {},
   "outputs": [],
   "source": []
  }
 ],
 "metadata": {
  "kernelspec": {
   "display_name": "Python 3",
   "language": "python",
   "name": "python3"
  },
  "language_info": {
   "codemirror_mode": {
    "name": "ipython",
    "version": 3
   },
   "file_extension": ".py",
   "mimetype": "text/x-python",
   "name": "python",
   "nbconvert_exporter": "python",
   "pygments_lexer": "ipython3",
   "version": "3.7.4"
  }
 },
 "nbformat": 4,
 "nbformat_minor": 4
}
